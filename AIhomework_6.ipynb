{
 "cells": [
  {
   "cell_type": "code",
   "execution_count": null,
   "metadata": {},
   "outputs": [],
   "source": [
    "# 실습 과제 1\n",
    "\n",
    "num1 = int(input(\"첫 번째 정수 : \"))\n",
    "num2 = int(input(\"두 번째 정수 : \"))\n",
    "operator = input(\"연산자 : \")\n",
    "\n",
    "if operator == \"+\" :\n",
    "    result = num1 + num2\n",
    "elif operator == \"-\" :\n",
    "    result = num1 - num2\n",
    "elif operator == \"*\" :\n",
    "    result = num1 * num2\n",
    "elif operator == \"//\" :\n",
    "    result = num1 // num2\n",
    "elif operator == \"/\" :\n",
    "    result = num1 / num2\n",
    "else :\n",
    "    result = num1 % num2\n",
    "    \n",
    "print(num1, operator, num2, \"=\", result)"
   ]
  },
  {
   "cell_type": "code",
   "execution_count": null,
   "metadata": {},
   "outputs": [],
   "source": []
  }
 ],
 "metadata": {
  "kernelspec": {
   "display_name": "Python 3",
   "language": "python",
   "name": "python3"
  },
  "language_info": {
   "codemirror_mode": {
    "name": "ipython",
    "version": 3
   },
   "file_extension": ".py",
   "mimetype": "text/x-python",
   "name": "python",
   "nbconvert_exporter": "python",
   "pygments_lexer": "ipython3",
   "version": "3.7.6"
  }
 },
 "nbformat": 4,
 "nbformat_minor": 4
}
