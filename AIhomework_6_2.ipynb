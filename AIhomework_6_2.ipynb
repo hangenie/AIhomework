{
 "cells": [
  {
   "cell_type": "code",
   "execution_count": null,
   "metadata": {},
   "outputs": [],
   "source": [
    "# 실습 과제 2\n",
    "\n",
    "for x in range(5) :\n",
    "    sum, avg = 0, 0\n",
    "    \n",
    "    num = int(input(\"번호 \"))\n",
    "    kor = int(input(\"국어 점수 : \"))\n",
    "    eng = int(input(\"영어 점수 : \"))\n",
    "    mat = int(input(\"수학 점수 : \"))\n",
    "    phy = int(input(\"물리 점수 : \"))\n",
    "    \n",
    "    sum = kor + eng + mat + phy\n",
    "    avg = sum / 4\n",
    "    \n",
    "    if avg >= 90 :\n",
    "        grade = \"A\"\n",
    "    elif avg >= 80 :\n",
    "        grade = \"B\"\n",
    "    elif avg >= 70 :\n",
    "        grade = \"C\"\n",
    "    elif avg >= 60 :\n",
    "        grade = \"D\"\n",
    "    else :\n",
    "        grade = \"F\"\n",
    "        \n",
    "    print(\"============================================================\")\n",
    "    print(\" 번호   국어    영어    수학    물리    총점    평균    학점\")\n",
    "    print(\"============================================================\")\n",
    "    print(\" \", num, \"   \", kor, \"    \", eng, \"    \", mat, \"    \", phy, \"    \", sum, \"  \", avg, \"   \", grade, end = '\\n')"
   ]
  }
 ],
 "metadata": {
  "kernelspec": {
   "display_name": "Python 3",
   "language": "python",
   "name": "python3"
  },
  "language_info": {
   "codemirror_mode": {
    "name": "ipython",
    "version": 3
   },
   "file_extension": ".py",
   "mimetype": "text/x-python",
   "name": "python",
   "nbconvert_exporter": "python",
   "pygments_lexer": "ipython3",
   "version": "3.7.6"
  }
 },
 "nbformat": 4,
 "nbformat_minor": 4
}
