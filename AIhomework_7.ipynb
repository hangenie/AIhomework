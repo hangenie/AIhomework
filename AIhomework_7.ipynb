{
 "cells": [
  {
   "cell_type": "code",
   "execution_count": null,
   "metadata": {},
   "outputs": [],
   "source": [
    "class Student:\n",
    "    def __init__(self, hakbun):\n",
    "        self.hakbun = hakbun\n",
    "                \n",
    "    def CalGrade(self):\n",
    "        self.total = self.kor + self.eng + self.math\n",
    "        self.avg = self.total / 3.0\n",
    "        \n",
    "        if self.avg >= 90 :\n",
    "            self.grade = 'A'\n",
    "        elif self.avg >= 80 :\n",
    "            self.grade = 'B'\n",
    "        elif self.avg >= 70 :\n",
    "            self.grade = 'C'\n",
    "        elif self.avg >= 60 :\n",
    "            self.grade = 'D'\n",
    "        else :\n",
    "            self.grade = 'F'\n",
    "            \n",
    "    def __str__(self):\n",
    "        msg = \"   \" + self.hakbun + \"\\t\" + self.name + \"\\t\" + str(self.kor) + \"\\t\" + str(self.eng) + \"\\t\" + str(self.math) + \"\\t\" + str(self.total) + \"\\t\" + format(self.avg, \".2f\") + \"\\t\" + self.grade\n",
    "        return msg\n",
    "\n",
    "\n",
    "flag = True\n",
    "print(\"프로그램을 종료하려면 학번에 '0'을 입력하시오\")\n",
    "\n",
    "while flag :\n",
    "    hakbun = input(\"학번을 입력하시오: \")\n",
    "    if hakbun == '0' :\n",
    "        flag = False\n",
    "    else :\n",
    "        student = Student(hakbun)\n",
    "        student.name = input(\"이름을 입력하시오: \")\n",
    "        student.kor = int(input(\"국어점수를 입력하시오: \"))\n",
    "        student.eng = int(input(\"영어점수를 입력하시오: \"))\n",
    "        student.math = int(input(\"수학점수를 입력하시오: \"))\n",
    "        \n",
    "        student.CalGrade()\n",
    "        print(student)\n"
   ]
  }
 ],
 "metadata": {
  "kernelspec": {
   "display_name": "Python 3",
   "language": "python",
   "name": "python3"
  },
  "language_info": {
   "codemirror_mode": {
    "name": "ipython",
    "version": 3
   },
   "file_extension": ".py",
   "mimetype": "text/x-python",
   "name": "python",
   "nbconvert_exporter": "python",
   "pygments_lexer": "ipython3",
   "version": "3.7.6"
  }
 },
 "nbformat": 4,
 "nbformat_minor": 4
}
